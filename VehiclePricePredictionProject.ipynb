{
 "cells": [
  {
   "cell_type": "code",
   "execution_count": 2,
   "id": "308f3a77-ed0b-4357-abcb-46d64fb17ce0",
   "metadata": {},
   "outputs": [],
   "source": [
    "import numpy as np\n",
    "import pandas as pd\n",
    "import seaborn as sns\n",
    "import matplotlib.pyplot as plt"
   ]
  },
  {
   "cell_type": "code",
   "execution_count": 4,
   "id": "d1e5b3e7-18a1-4651-bb48-3c12df80f61d",
   "metadata": {},
   "outputs": [],
   "source": [
    "# Veri setini yukledik ve nasil gozuktugunu gorduk."
   ]
  },
  {
   "cell_type": "code",
   "execution_count": 6,
   "id": "53869d68-035e-4695-86bc-220eab820d3c",
   "metadata": {},
   "outputs": [
    {
     "data": {
      "text/html": [
       "<div>\n",
       "<style scoped>\n",
       "    .dataframe tbody tr th:only-of-type {\n",
       "        vertical-align: middle;\n",
       "    }\n",
       "\n",
       "    .dataframe tbody tr th {\n",
       "        vertical-align: top;\n",
       "    }\n",
       "\n",
       "    .dataframe thead th {\n",
       "        text-align: right;\n",
       "    }\n",
       "</style>\n",
       "<table border=\"1\" class=\"dataframe\">\n",
       "  <thead>\n",
       "    <tr style=\"text-align: right;\">\n",
       "      <th></th>\n",
       "      <th>name</th>\n",
       "      <th>year</th>\n",
       "      <th>selling_price</th>\n",
       "      <th>km_driven</th>\n",
       "      <th>fuel</th>\n",
       "      <th>seller_type</th>\n",
       "      <th>transmission</th>\n",
       "      <th>owner</th>\n",
       "      <th>mileage</th>\n",
       "      <th>engine</th>\n",
       "      <th>max_power</th>\n",
       "      <th>torque</th>\n",
       "      <th>seats</th>\n",
       "    </tr>\n",
       "  </thead>\n",
       "  <tbody>\n",
       "    <tr>\n",
       "      <th>0</th>\n",
       "      <td>Maruti Swift Dzire VDI</td>\n",
       "      <td>2014</td>\n",
       "      <td>450000</td>\n",
       "      <td>145500</td>\n",
       "      <td>Diesel</td>\n",
       "      <td>Individual</td>\n",
       "      <td>Manual</td>\n",
       "      <td>First Owner</td>\n",
       "      <td>23.4 kmpl</td>\n",
       "      <td>1248 CC</td>\n",
       "      <td>74 bhp</td>\n",
       "      <td>190Nm@ 2000rpm</td>\n",
       "      <td>5.0</td>\n",
       "    </tr>\n",
       "    <tr>\n",
       "      <th>1</th>\n",
       "      <td>Skoda Rapid 1.5 TDI Ambition</td>\n",
       "      <td>2014</td>\n",
       "      <td>370000</td>\n",
       "      <td>120000</td>\n",
       "      <td>Diesel</td>\n",
       "      <td>Individual</td>\n",
       "      <td>Manual</td>\n",
       "      <td>Second Owner</td>\n",
       "      <td>21.14 kmpl</td>\n",
       "      <td>1498 CC</td>\n",
       "      <td>103.52 bhp</td>\n",
       "      <td>250Nm@ 1500-2500rpm</td>\n",
       "      <td>5.0</td>\n",
       "    </tr>\n",
       "    <tr>\n",
       "      <th>2</th>\n",
       "      <td>Honda City 2017-2020 EXi</td>\n",
       "      <td>2006</td>\n",
       "      <td>158000</td>\n",
       "      <td>140000</td>\n",
       "      <td>Petrol</td>\n",
       "      <td>Individual</td>\n",
       "      <td>Manual</td>\n",
       "      <td>Third Owner</td>\n",
       "      <td>17.7 kmpl</td>\n",
       "      <td>1497 CC</td>\n",
       "      <td>78 bhp</td>\n",
       "      <td>12.7@ 2,700(kgm@ rpm)</td>\n",
       "      <td>5.0</td>\n",
       "    </tr>\n",
       "  </tbody>\n",
       "</table>\n",
       "</div>"
      ],
      "text/plain": [
       "                           name  year  selling_price  km_driven    fuel  \\\n",
       "0        Maruti Swift Dzire VDI  2014         450000     145500  Diesel   \n",
       "1  Skoda Rapid 1.5 TDI Ambition  2014         370000     120000  Diesel   \n",
       "2      Honda City 2017-2020 EXi  2006         158000     140000  Petrol   \n",
       "\n",
       "  seller_type transmission         owner     mileage   engine   max_power  \\\n",
       "0  Individual       Manual   First Owner   23.4 kmpl  1248 CC      74 bhp   \n",
       "1  Individual       Manual  Second Owner  21.14 kmpl  1498 CC  103.52 bhp   \n",
       "2  Individual       Manual   Third Owner   17.7 kmpl  1497 CC      78 bhp   \n",
       "\n",
       "                  torque  seats  \n",
       "0         190Nm@ 2000rpm    5.0  \n",
       "1    250Nm@ 1500-2500rpm    5.0  \n",
       "2  12.7@ 2,700(kgm@ rpm)    5.0  "
      ]
     },
     "execution_count": 6,
     "metadata": {},
     "output_type": "execute_result"
    }
   ],
   "source": [
    "dataset = pd.read_csv('car_details.csv')\n",
    "dataset.head(3) # Ilk uc terimi inceleme"
   ]
  },
  {
   "cell_type": "code",
   "execution_count": 8,
   "id": "7bc77e6d-e9d1-4de1-a4f5-107c2de33920",
   "metadata": {},
   "outputs": [],
   "source": [
    "# Veri setinin son kismini kontrol ettik ve kac adet veri oldugunun da bilgisini edindik."
   ]
  },
  {
   "cell_type": "code",
   "execution_count": 10,
   "id": "cc5afcbe-ec45-488a-ae37-108aacd33bbf",
   "metadata": {},
   "outputs": [],
   "source": [
    "# Veri seti feature'lari ve type'lari hakkinda bilgi edindik."
   ]
  },
  {
   "cell_type": "code",
   "execution_count": 12,
   "id": "b9615929-389e-4149-8f0f-dc9e3b21c8a5",
   "metadata": {},
   "outputs": [
    {
     "data": {
      "text/html": [
       "<div>\n",
       "<style scoped>\n",
       "    .dataframe tbody tr th:only-of-type {\n",
       "        vertical-align: middle;\n",
       "    }\n",
       "\n",
       "    .dataframe tbody tr th {\n",
       "        vertical-align: top;\n",
       "    }\n",
       "\n",
       "    .dataframe thead th {\n",
       "        text-align: right;\n",
       "    }\n",
       "</style>\n",
       "<table border=\"1\" class=\"dataframe\">\n",
       "  <thead>\n",
       "    <tr style=\"text-align: right;\">\n",
       "      <th></th>\n",
       "      <th>name</th>\n",
       "      <th>year</th>\n",
       "      <th>selling_price</th>\n",
       "      <th>km_driven</th>\n",
       "      <th>fuel</th>\n",
       "      <th>seller_type</th>\n",
       "      <th>transmission</th>\n",
       "      <th>owner</th>\n",
       "      <th>mileage</th>\n",
       "      <th>engine</th>\n",
       "      <th>max_power</th>\n",
       "      <th>torque</th>\n",
       "      <th>seats</th>\n",
       "    </tr>\n",
       "  </thead>\n",
       "  <tbody>\n",
       "    <tr>\n",
       "      <th>8125</th>\n",
       "      <td>Maruti Swift Dzire ZDi</td>\n",
       "      <td>2009</td>\n",
       "      <td>382000</td>\n",
       "      <td>120000</td>\n",
       "      <td>Diesel</td>\n",
       "      <td>Individual</td>\n",
       "      <td>Manual</td>\n",
       "      <td>First Owner</td>\n",
       "      <td>19.3 kmpl</td>\n",
       "      <td>1248 CC</td>\n",
       "      <td>73.9 bhp</td>\n",
       "      <td>190Nm@ 2000rpm</td>\n",
       "      <td>5.0</td>\n",
       "    </tr>\n",
       "    <tr>\n",
       "      <th>8126</th>\n",
       "      <td>Tata Indigo CR4</td>\n",
       "      <td>2013</td>\n",
       "      <td>290000</td>\n",
       "      <td>25000</td>\n",
       "      <td>Diesel</td>\n",
       "      <td>Individual</td>\n",
       "      <td>Manual</td>\n",
       "      <td>First Owner</td>\n",
       "      <td>23.57 kmpl</td>\n",
       "      <td>1396 CC</td>\n",
       "      <td>70 bhp</td>\n",
       "      <td>140Nm@ 1800-3000rpm</td>\n",
       "      <td>5.0</td>\n",
       "    </tr>\n",
       "    <tr>\n",
       "      <th>8127</th>\n",
       "      <td>Tata Indigo CR4</td>\n",
       "      <td>2013</td>\n",
       "      <td>290000</td>\n",
       "      <td>25000</td>\n",
       "      <td>Diesel</td>\n",
       "      <td>Individual</td>\n",
       "      <td>Manual</td>\n",
       "      <td>First Owner</td>\n",
       "      <td>23.57 kmpl</td>\n",
       "      <td>1396 CC</td>\n",
       "      <td>70 bhp</td>\n",
       "      <td>140Nm@ 1800-3000rpm</td>\n",
       "      <td>5.0</td>\n",
       "    </tr>\n",
       "  </tbody>\n",
       "</table>\n",
       "</div>"
      ],
      "text/plain": [
       "                        name  year  selling_price  km_driven    fuel  \\\n",
       "8125  Maruti Swift Dzire ZDi  2009         382000     120000  Diesel   \n",
       "8126         Tata Indigo CR4  2013         290000      25000  Diesel   \n",
       "8127         Tata Indigo CR4  2013         290000      25000  Diesel   \n",
       "\n",
       "     seller_type transmission        owner     mileage   engine max_power  \\\n",
       "8125  Individual       Manual  First Owner   19.3 kmpl  1248 CC  73.9 bhp   \n",
       "8126  Individual       Manual  First Owner  23.57 kmpl  1396 CC    70 bhp   \n",
       "8127  Individual       Manual  First Owner  23.57 kmpl  1396 CC    70 bhp   \n",
       "\n",
       "                   torque  seats  \n",
       "8125       190Nm@ 2000rpm    5.0  \n",
       "8126  140Nm@ 1800-3000rpm    5.0  \n",
       "8127  140Nm@ 1800-3000rpm    5.0  "
      ]
     },
     "execution_count": 12,
     "metadata": {},
     "output_type": "execute_result"
    }
   ],
   "source": [
    "dataset.tail(3)"
   ]
  },
  {
   "cell_type": "code",
   "execution_count": 14,
   "id": "7686e773-1249-44e5-9d65-74fce104c1d2",
   "metadata": {},
   "outputs": [
    {
     "data": {
      "text/plain": [
       "(8128, 13)"
      ]
     },
     "execution_count": 14,
     "metadata": {},
     "output_type": "execute_result"
    }
   ],
   "source": [
    "dataset.shape"
   ]
  },
  {
   "cell_type": "code",
   "execution_count": 16,
   "id": "fb3c8d34-8907-4c9c-a5ea-c7b4a0ab4d74",
   "metadata": {},
   "outputs": [
    {
     "name": "stdout",
     "output_type": "stream",
     "text": [
      "<class 'pandas.core.frame.DataFrame'>\n",
      "RangeIndex: 8128 entries, 0 to 8127\n",
      "Data columns (total 13 columns):\n",
      " #   Column         Non-Null Count  Dtype  \n",
      "---  ------         --------------  -----  \n",
      " 0   name           8128 non-null   object \n",
      " 1   year           8128 non-null   int64  \n",
      " 2   selling_price  8128 non-null   int64  \n",
      " 3   km_driven      8128 non-null   int64  \n",
      " 4   fuel           8128 non-null   object \n",
      " 5   seller_type    8128 non-null   object \n",
      " 6   transmission   8128 non-null   object \n",
      " 7   owner          8128 non-null   object \n",
      " 8   mileage        7907 non-null   object \n",
      " 9   engine         7907 non-null   object \n",
      " 10  max_power      7913 non-null   object \n",
      " 11  torque         7906 non-null   object \n",
      " 12  seats          7907 non-null   float64\n",
      "dtypes: float64(1), int64(3), object(9)\n",
      "memory usage: 825.6+ KB\n"
     ]
    }
   ],
   "source": [
    "dataset.info()"
   ]
  },
  {
   "cell_type": "code",
   "execution_count": 18,
   "id": "295a7268-e4b7-4c2b-85a3-90becc52d322",
   "metadata": {},
   "outputs": [],
   "source": [
    "# Islemlere verisetini kopyalama islemi ile basliyoruz. Sorunlara karsi onlem.\n",
    "df = dataset.copy() \n",
    "df = df.drop_duplicates() # Tüm satırlar için tekrar edenleri kaldırma:"
   ]
  },
  {
   "cell_type": "code",
   "execution_count": 20,
   "id": "b6243d7b-e025-49a5-8f49-be4a6fe3a068",
   "metadata": {},
   "outputs": [],
   "source": [
    "# Object türündeki tüm sütunları buluyoruz\n",
    "object_columns = df.select_dtypes(include=['object']).columns\n",
    "\n",
    "# Bu sütunları toplu olarak Categorical türüne dönüştürüyoruz\n",
    "df[object_columns] = df[object_columns].apply(lambda col: pd.Categorical(col))"
   ]
  },
  {
   "cell_type": "code",
   "execution_count": 22,
   "id": "6894d806-6b1c-43fb-8e81-e68e5da72bf9",
   "metadata": {},
   "outputs": [
    {
     "name": "stdout",
     "output_type": "stream",
     "text": [
      "<class 'pandas.core.frame.DataFrame'>\n",
      "Index: 6926 entries, 0 to 8125\n",
      "Data columns (total 13 columns):\n",
      " #   Column         Non-Null Count  Dtype   \n",
      "---  ------         --------------  -----   \n",
      " 0   name           6926 non-null   category\n",
      " 1   year           6926 non-null   int64   \n",
      " 2   selling_price  6926 non-null   int64   \n",
      " 3   km_driven      6926 non-null   int64   \n",
      " 4   fuel           6926 non-null   category\n",
      " 5   seller_type    6926 non-null   category\n",
      " 6   transmission   6926 non-null   category\n",
      " 7   owner          6926 non-null   category\n",
      " 8   mileage        6718 non-null   category\n",
      " 9   engine         6718 non-null   category\n",
      " 10  max_power      6721 non-null   category\n",
      " 11  torque         6717 non-null   category\n",
      " 12  seats          6718 non-null   float64 \n",
      "dtypes: category(9), float64(1), int64(3)\n",
      "memory usage: 486.2 KB\n"
     ]
    }
   ],
   "source": [
    "df.info()"
   ]
  },
  {
   "cell_type": "code",
   "execution_count": 24,
   "id": "9b13d7a2-e3ae-4c16-8a81-59bc33cb6f80",
   "metadata": {},
   "outputs": [],
   "source": [
    "# Kac adet eksik veri var?"
   ]
  },
  {
   "cell_type": "code",
   "execution_count": 26,
   "id": "bb31e1a8-1733-47c1-890f-f1fcd8475d8b",
   "metadata": {},
   "outputs": [
    {
     "data": {
      "text/plain": [
       "name               0\n",
       "year               0\n",
       "selling_price      0\n",
       "km_driven          0\n",
       "fuel               0\n",
       "seller_type        0\n",
       "transmission       0\n",
       "owner              0\n",
       "mileage          208\n",
       "engine           208\n",
       "max_power        205\n",
       "torque           209\n",
       "seats            208\n",
       "dtype: int64"
      ]
     },
     "execution_count": 26,
     "metadata": {},
     "output_type": "execute_result"
    }
   ],
   "source": [
    "df.isnull().sum()"
   ]
  },
  {
   "cell_type": "code",
   "execution_count": 28,
   "id": "be926023-e979-45c4-b946-535360f8c45b",
   "metadata": {},
   "outputs": [],
   "source": [
    "# Eksik bilgilerin oldugu verileri silme."
   ]
  },
  {
   "cell_type": "code",
   "execution_count": 30,
   "id": "cb7fc9a7-0de5-43d5-a914-7c017e273e5c",
   "metadata": {},
   "outputs": [],
   "source": [
    "df = df.dropna()"
   ]
  },
  {
   "cell_type": "code",
   "execution_count": 32,
   "id": "0889af9f-390b-484d-bace-d776e545d5f9",
   "metadata": {},
   "outputs": [
    {
     "data": {
      "text/plain": [
       "(6717, 13)"
      ]
     },
     "execution_count": 32,
     "metadata": {},
     "output_type": "execute_result"
    }
   ],
   "source": [
    "df.shape"
   ]
  },
  {
   "cell_type": "code",
   "execution_count": 34,
   "id": "99e29cd9-c913-4910-9fb6-05dbb885e393",
   "metadata": {},
   "outputs": [
    {
     "data": {
      "text/html": [
       "<div>\n",
       "<style scoped>\n",
       "    .dataframe tbody tr th:only-of-type {\n",
       "        vertical-align: middle;\n",
       "    }\n",
       "\n",
       "    .dataframe tbody tr th {\n",
       "        vertical-align: top;\n",
       "    }\n",
       "\n",
       "    .dataframe thead th {\n",
       "        text-align: right;\n",
       "    }\n",
       "</style>\n",
       "<table border=\"1\" class=\"dataframe\">\n",
       "  <thead>\n",
       "    <tr style=\"text-align: right;\">\n",
       "      <th></th>\n",
       "      <th>mileage</th>\n",
       "      <th>engine</th>\n",
       "      <th>max_power</th>\n",
       "      <th>torque</th>\n",
       "    </tr>\n",
       "  </thead>\n",
       "  <tbody>\n",
       "    <tr>\n",
       "      <th>0</th>\n",
       "      <td>23.40</td>\n",
       "      <td>1248</td>\n",
       "      <td>74.00</td>\n",
       "      <td>190.0</td>\n",
       "    </tr>\n",
       "    <tr>\n",
       "      <th>1</th>\n",
       "      <td>21.14</td>\n",
       "      <td>1498</td>\n",
       "      <td>103.52</td>\n",
       "      <td>250.0</td>\n",
       "    </tr>\n",
       "    <tr>\n",
       "      <th>2</th>\n",
       "      <td>17.70</td>\n",
       "      <td>1497</td>\n",
       "      <td>78.00</td>\n",
       "      <td>12.7</td>\n",
       "    </tr>\n",
       "  </tbody>\n",
       "</table>\n",
       "</div>"
      ],
      "text/plain": [
       "   mileage  engine  max_power  torque\n",
       "0    23.40    1248      74.00   190.0\n",
       "1    21.14    1498     103.52   250.0\n",
       "2    17.70    1497      78.00    12.7"
      ]
     },
     "execution_count": 34,
     "metadata": {},
     "output_type": "execute_result"
    }
   ],
   "source": [
    "# Sayısal veri tipine çevrilmesi gereken sütunlar\n",
    "numeric_columns = ['mileage', 'engine', 'max_power', 'torque']\n",
    "\n",
    "# Sayısal olmayan karakterleri kaldırıp, sütunları sayısal değerlere dönüştürüyoruz\n",
    "for column in numeric_columns:\n",
    "    # Sayısal olmayan karakterleri çıkar ve sayısal değerlere dönüştür\n",
    "    df[column] = pd.to_numeric(df[column].str.extract('(\\d+\\.?\\d*)')[0], errors='coerce')\n",
    "    \n",
    "# Veriyi kontrol etme\n",
    "df[numeric_columns].head(3)"
   ]
  },
  {
   "cell_type": "code",
   "execution_count": 36,
   "id": "8390ff91-5e93-4eab-bc41-baca8ff882d8",
   "metadata": {},
   "outputs": [
    {
     "data": {
      "text/html": [
       "<div>\n",
       "<style scoped>\n",
       "    .dataframe tbody tr th:only-of-type {\n",
       "        vertical-align: middle;\n",
       "    }\n",
       "\n",
       "    .dataframe tbody tr th {\n",
       "        vertical-align: top;\n",
       "    }\n",
       "\n",
       "    .dataframe thead th {\n",
       "        text-align: right;\n",
       "    }\n",
       "</style>\n",
       "<table border=\"1\" class=\"dataframe\">\n",
       "  <thead>\n",
       "    <tr style=\"text-align: right;\">\n",
       "      <th></th>\n",
       "      <th>name</th>\n",
       "      <th>year</th>\n",
       "      <th>selling_price</th>\n",
       "      <th>km_driven</th>\n",
       "      <th>fuel</th>\n",
       "      <th>seller_type</th>\n",
       "      <th>transmission</th>\n",
       "      <th>owner</th>\n",
       "      <th>mileage</th>\n",
       "      <th>engine</th>\n",
       "      <th>max_power</th>\n",
       "      <th>torque</th>\n",
       "      <th>seats</th>\n",
       "    </tr>\n",
       "  </thead>\n",
       "  <tbody>\n",
       "    <tr>\n",
       "      <th>0</th>\n",
       "      <td>Maruti Swift Dzire VDI</td>\n",
       "      <td>2014</td>\n",
       "      <td>450000</td>\n",
       "      <td>145500</td>\n",
       "      <td>Diesel</td>\n",
       "      <td>Individual</td>\n",
       "      <td>Manual</td>\n",
       "      <td>First Owner</td>\n",
       "      <td>23.40</td>\n",
       "      <td>1248</td>\n",
       "      <td>74.00</td>\n",
       "      <td>190.0</td>\n",
       "      <td>5.0</td>\n",
       "    </tr>\n",
       "    <tr>\n",
       "      <th>1</th>\n",
       "      <td>Skoda Rapid 1.5 TDI Ambition</td>\n",
       "      <td>2014</td>\n",
       "      <td>370000</td>\n",
       "      <td>120000</td>\n",
       "      <td>Diesel</td>\n",
       "      <td>Individual</td>\n",
       "      <td>Manual</td>\n",
       "      <td>Second Owner</td>\n",
       "      <td>21.14</td>\n",
       "      <td>1498</td>\n",
       "      <td>103.52</td>\n",
       "      <td>250.0</td>\n",
       "      <td>5.0</td>\n",
       "    </tr>\n",
       "    <tr>\n",
       "      <th>2</th>\n",
       "      <td>Honda City 2017-2020 EXi</td>\n",
       "      <td>2006</td>\n",
       "      <td>158000</td>\n",
       "      <td>140000</td>\n",
       "      <td>Petrol</td>\n",
       "      <td>Individual</td>\n",
       "      <td>Manual</td>\n",
       "      <td>Third Owner</td>\n",
       "      <td>17.70</td>\n",
       "      <td>1497</td>\n",
       "      <td>78.00</td>\n",
       "      <td>12.7</td>\n",
       "      <td>5.0</td>\n",
       "    </tr>\n",
       "  </tbody>\n",
       "</table>\n",
       "</div>"
      ],
      "text/plain": [
       "                           name  year  selling_price  km_driven    fuel  \\\n",
       "0        Maruti Swift Dzire VDI  2014         450000     145500  Diesel   \n",
       "1  Skoda Rapid 1.5 TDI Ambition  2014         370000     120000  Diesel   \n",
       "2      Honda City 2017-2020 EXi  2006         158000     140000  Petrol   \n",
       "\n",
       "  seller_type transmission         owner  mileage  engine  max_power  torque  \\\n",
       "0  Individual       Manual   First Owner    23.40    1248      74.00   190.0   \n",
       "1  Individual       Manual  Second Owner    21.14    1498     103.52   250.0   \n",
       "2  Individual       Manual   Third Owner    17.70    1497      78.00    12.7   \n",
       "\n",
       "   seats  \n",
       "0    5.0  \n",
       "1    5.0  \n",
       "2    5.0  "
      ]
     },
     "execution_count": 36,
     "metadata": {},
     "output_type": "execute_result"
    }
   ],
   "source": [
    "df.head(3)"
   ]
  },
  {
   "cell_type": "code",
   "execution_count": 38,
   "id": "2289f802-f816-426d-989e-9060e7ebfe9f",
   "metadata": {},
   "outputs": [
    {
     "data": {
      "text/plain": [
       "name             0\n",
       "year             0\n",
       "selling_price    0\n",
       "km_driven        0\n",
       "fuel             0\n",
       "seller_type      0\n",
       "transmission     0\n",
       "owner            0\n",
       "mileage          0\n",
       "engine           0\n",
       "max_power        0\n",
       "torque           0\n",
       "seats            0\n",
       "dtype: int64"
      ]
     },
     "execution_count": 38,
     "metadata": {},
     "output_type": "execute_result"
    }
   ],
   "source": [
    "df.isnull().sum() # Veri setindeki eksik gozlemler kac tane?"
   ]
  },
  {
   "cell_type": "code",
   "execution_count": 40,
   "id": "392d1be0-6a52-4b56-9fd7-c0383c14dbc9",
   "metadata": {},
   "outputs": [],
   "source": [
    "# Kategorik Degiskenleri One-Hot(Sira olmayanlar icin) ve Label(Siralilar) Encoding ile kullanima hazir hale getirme"
   ]
  },
  {
   "cell_type": "code",
   "execution_count": 42,
   "id": "6920a5e1-2023-473b-af4d-3f361957dd33",
   "metadata": {},
   "outputs": [],
   "source": [
    "from sklearn.preprocessing import LabelEncoder\n",
    "\n",
    "# Kategorik değişkenleri seç\n",
    "categorical_features = ['fuel', 'seller_type', 'transmission', 'owner']\n",
    "\n",
    "# Her kategorik değişken için LabelEncoder uygulama\n",
    "label_encoders = {}\n",
    "for feature in categorical_features:\n",
    "    le = LabelEncoder()\n",
    "    df[feature] = le.fit_transform(df[feature])\n",
    "    label_encoders[feature] = le  # İleride gerekirse dönüşümleri geri almak için encoder'ları sakla"
   ]
  },
  {
   "cell_type": "code",
   "execution_count": 44,
   "id": "0dacd50e-3a95-4c0d-973d-f081c9ad8ac2",
   "metadata": {},
   "outputs": [
    {
     "name": "stdout",
     "output_type": "stream",
     "text": [
      "<class 'pandas.core.frame.DataFrame'>\n",
      "Index: 6717 entries, 0 to 8125\n",
      "Data columns (total 13 columns):\n",
      " #   Column         Non-Null Count  Dtype   \n",
      "---  ------         --------------  -----   \n",
      " 0   name           6717 non-null   category\n",
      " 1   year           6717 non-null   int64   \n",
      " 2   selling_price  6717 non-null   int64   \n",
      " 3   km_driven      6717 non-null   int64   \n",
      " 4   fuel           6717 non-null   int64   \n",
      " 5   seller_type    6717 non-null   int64   \n",
      " 6   transmission   6717 non-null   int64   \n",
      " 7   owner          6717 non-null   int64   \n",
      " 8   mileage        6717 non-null   float64 \n",
      " 9   engine         6717 non-null   int64   \n",
      " 10  max_power      6717 non-null   float64 \n",
      " 11  torque         6717 non-null   float64 \n",
      " 12  seats          6717 non-null   float64 \n",
      "dtypes: category(1), float64(4), int64(8)\n",
      "memory usage: 775.9 KB\n"
     ]
    }
   ],
   "source": [
    "df.info()"
   ]
  },
  {
   "cell_type": "code",
   "execution_count": 46,
   "id": "da54982b-1eb0-4930-b893-2c9e51ba2985",
   "metadata": {},
   "outputs": [
    {
     "data": {
      "text/html": [
       "<div>\n",
       "<style scoped>\n",
       "    .dataframe tbody tr th:only-of-type {\n",
       "        vertical-align: middle;\n",
       "    }\n",
       "\n",
       "    .dataframe tbody tr th {\n",
       "        vertical-align: top;\n",
       "    }\n",
       "\n",
       "    .dataframe thead th {\n",
       "        text-align: right;\n",
       "    }\n",
       "</style>\n",
       "<table border=\"1\" class=\"dataframe\">\n",
       "  <thead>\n",
       "    <tr style=\"text-align: right;\">\n",
       "      <th></th>\n",
       "      <th>name</th>\n",
       "      <th>year</th>\n",
       "      <th>selling_price</th>\n",
       "      <th>km_driven</th>\n",
       "      <th>fuel</th>\n",
       "      <th>seller_type</th>\n",
       "      <th>transmission</th>\n",
       "      <th>owner</th>\n",
       "      <th>mileage</th>\n",
       "      <th>engine</th>\n",
       "      <th>max_power</th>\n",
       "      <th>torque</th>\n",
       "      <th>seats</th>\n",
       "    </tr>\n",
       "  </thead>\n",
       "  <tbody>\n",
       "    <tr>\n",
       "      <th>0</th>\n",
       "      <td>Maruti Swift Dzire VDI</td>\n",
       "      <td>2014</td>\n",
       "      <td>450000</td>\n",
       "      <td>145500</td>\n",
       "      <td>1</td>\n",
       "      <td>1</td>\n",
       "      <td>1</td>\n",
       "      <td>0</td>\n",
       "      <td>23.40</td>\n",
       "      <td>1248</td>\n",
       "      <td>74.00</td>\n",
       "      <td>190.0</td>\n",
       "      <td>5.0</td>\n",
       "    </tr>\n",
       "    <tr>\n",
       "      <th>1</th>\n",
       "      <td>Skoda Rapid 1.5 TDI Ambition</td>\n",
       "      <td>2014</td>\n",
       "      <td>370000</td>\n",
       "      <td>120000</td>\n",
       "      <td>1</td>\n",
       "      <td>1</td>\n",
       "      <td>1</td>\n",
       "      <td>2</td>\n",
       "      <td>21.14</td>\n",
       "      <td>1498</td>\n",
       "      <td>103.52</td>\n",
       "      <td>250.0</td>\n",
       "      <td>5.0</td>\n",
       "    </tr>\n",
       "    <tr>\n",
       "      <th>2</th>\n",
       "      <td>Honda City 2017-2020 EXi</td>\n",
       "      <td>2006</td>\n",
       "      <td>158000</td>\n",
       "      <td>140000</td>\n",
       "      <td>3</td>\n",
       "      <td>1</td>\n",
       "      <td>1</td>\n",
       "      <td>4</td>\n",
       "      <td>17.70</td>\n",
       "      <td>1497</td>\n",
       "      <td>78.00</td>\n",
       "      <td>12.7</td>\n",
       "      <td>5.0</td>\n",
       "    </tr>\n",
       "  </tbody>\n",
       "</table>\n",
       "</div>"
      ],
      "text/plain": [
       "                           name  year  selling_price  km_driven  fuel  \\\n",
       "0        Maruti Swift Dzire VDI  2014         450000     145500     1   \n",
       "1  Skoda Rapid 1.5 TDI Ambition  2014         370000     120000     1   \n",
       "2      Honda City 2017-2020 EXi  2006         158000     140000     3   \n",
       "\n",
       "   seller_type  transmission  owner  mileage  engine  max_power  torque  seats  \n",
       "0            1             1      0    23.40    1248      74.00   190.0    5.0  \n",
       "1            1             1      2    21.14    1498     103.52   250.0    5.0  \n",
       "2            1             1      4    17.70    1497      78.00    12.7    5.0  "
      ]
     },
     "execution_count": 46,
     "metadata": {},
     "output_type": "execute_result"
    }
   ],
   "source": [
    "df.head(3)"
   ]
  },
  {
   "cell_type": "code",
   "execution_count": 48,
   "id": "fc1a9e74-43db-4e41-b2b8-4aad5ea34200",
   "metadata": {},
   "outputs": [],
   "source": [
    "# Brand, Model olusturma"
   ]
  },
  {
   "cell_type": "code",
   "execution_count": 50,
   "id": "ae7a40e5-7446-40e8-8ae1-e0d96a12e732",
   "metadata": {},
   "outputs": [
    {
     "name": "stdout",
     "output_type": "stream",
     "text": [
      "   brand  model\n",
      "0     20    152\n",
      "1     26    126\n",
      "2     10     35\n",
      "3     11    196\n",
      "4     20    152\n"
     ]
    }
   ],
   "source": [
    "# İlk olarak, 'name' sütununu 'brand' ve 'model' olarak ayırıyoruz\n",
    "df[['brand', 'model']] = df['name'].str.split(' ', n=2, expand=True)[[0, 1]]\n",
    "\n",
    "# 'brand' ve 'model' sütunlarını sayısal hale getirmek için Label Encoding uyguluyoruz\n",
    "label_encoders = {}\n",
    "for column in ['brand', 'model']:\n",
    "    le = LabelEncoder()\n",
    "    df[column] = le.fit_transform(df[column])\n",
    "    label_encoders[column] = le  # Encoder'ları ileride kullanmak için saklayabiliriz\n",
    "\n",
    "# 'brand' ve 'model' sütunları artık sayısal hale getirildi\n",
    "print(df[['brand', 'model']].head())"
   ]
  },
  {
   "cell_type": "code",
   "execution_count": 52,
   "id": "5c7404dc-a585-4719-be4b-a9657f737c0a",
   "metadata": {},
   "outputs": [],
   "source": [
    "df['brand_model'] = df['brand'] + df['model']"
   ]
  },
  {
   "cell_type": "code",
   "execution_count": 54,
   "id": "7fba6c39-6053-4b5c-ae2e-d8f420467156",
   "metadata": {},
   "outputs": [],
   "source": [
    "# Veri setindeki aykiriliklari gozlemleme"
   ]
  },
  {
   "cell_type": "code",
   "execution_count": 56,
   "id": "64b50a3c-4d7f-4e09-886f-3ffedb66a0dd",
   "metadata": {},
   "outputs": [
    {
     "name": "stdout",
     "output_type": "stream",
     "text": [
      "Ortalama: 526385.9970224802\n",
      "Dolu Gözlem Sayısı: 6717\n",
      "Maksimum Değer: 10000000\n",
      "Minimum Değer: 29999\n",
      "Medyan: 420000.0\n",
      "Standart Sapma: 523550.448296879\n"
     ]
    }
   ],
   "source": [
    "print(\"Ortalama: \" + str(df[\"selling_price\"].mean()))\n",
    "print(\"Dolu Gözlem Sayısı: \" + str(df[\"selling_price\"].count()))\n",
    "print(\"Maksimum Değer: \" + str(df[\"selling_price\"].max()))\n",
    "print(\"Minimum Değer: \" + str(df[\"selling_price\"].min()))\n",
    "print(\"Medyan: \" + str(df[\"selling_price\"].median()))\n",
    "print(\"Standart Sapma: \" + str(df[\"selling_price\"].std()))"
   ]
  },
  {
   "cell_type": "code",
   "execution_count": 58,
   "id": "073bea8f-8ebe-4b30-80e1-7a7ef8bc7c1c",
   "metadata": {},
   "outputs": [],
   "source": [
    "df['seats'].describe().T\n",
    "# 5'ten fazla koltuğa sahip olan verileri çıkararak yeni bir DataFrame oluşturuyoruz\n",
    "df = df[df['seats'] <= 5]\n",
    "# 'seats' sütununu veri setinden tamamen kaldırıyoruz\n",
    "df = df.drop(columns=['seats'])"
   ]
  },
  {
   "cell_type": "code",
   "execution_count": 60,
   "id": "5883edf6-96c3-47da-9907-ca11862fe0e1",
   "metadata": {},
   "outputs": [
    {
     "data": {
      "text/html": [
       "<div>\n",
       "<style scoped>\n",
       "    .dataframe tbody tr th:only-of-type {\n",
       "        vertical-align: middle;\n",
       "    }\n",
       "\n",
       "    .dataframe tbody tr th {\n",
       "        vertical-align: top;\n",
       "    }\n",
       "\n",
       "    .dataframe thead th {\n",
       "        text-align: right;\n",
       "    }\n",
       "</style>\n",
       "<table border=\"1\" class=\"dataframe\">\n",
       "  <thead>\n",
       "    <tr style=\"text-align: right;\">\n",
       "      <th></th>\n",
       "      <th>count</th>\n",
       "      <th>mean</th>\n",
       "      <th>std</th>\n",
       "      <th>min</th>\n",
       "      <th>25%</th>\n",
       "      <th>50%</th>\n",
       "      <th>75%</th>\n",
       "      <th>max</th>\n",
       "    </tr>\n",
       "  </thead>\n",
       "  <tbody>\n",
       "    <tr>\n",
       "      <th>year</th>\n",
       "      <td>5380.0</td>\n",
       "      <td>2013.557807</td>\n",
       "      <td>4.023472</td>\n",
       "      <td>1994.0</td>\n",
       "      <td>2011.00</td>\n",
       "      <td>2014.00</td>\n",
       "      <td>2017.0</td>\n",
       "      <td>2020.0</td>\n",
       "    </tr>\n",
       "    <tr>\n",
       "      <th>selling_price</th>\n",
       "      <td>5380.0</td>\n",
       "      <td>476208.325279</td>\n",
       "      <td>509922.635640</td>\n",
       "      <td>29999.0</td>\n",
       "      <td>225000.00</td>\n",
       "      <td>375000.00</td>\n",
       "      <td>585000.0</td>\n",
       "      <td>10000000.0</td>\n",
       "    </tr>\n",
       "    <tr>\n",
       "      <th>km_driven</th>\n",
       "      <td>5380.0</td>\n",
       "      <td>67870.366729</td>\n",
       "      <td>53626.305396</td>\n",
       "      <td>1.0</td>\n",
       "      <td>35000.00</td>\n",
       "      <td>60000.00</td>\n",
       "      <td>90000.0</td>\n",
       "      <td>2360457.0</td>\n",
       "    </tr>\n",
       "    <tr>\n",
       "      <th>fuel</th>\n",
       "      <td>5380.0</td>\n",
       "      <td>2.057807</td>\n",
       "      <td>1.009070</td>\n",
       "      <td>0.0</td>\n",
       "      <td>1.00</td>\n",
       "      <td>3.00</td>\n",
       "      <td>3.0</td>\n",
       "      <td>3.0</td>\n",
       "    </tr>\n",
       "    <tr>\n",
       "      <th>seller_type</th>\n",
       "      <td>5380.0</td>\n",
       "      <td>0.901115</td>\n",
       "      <td>0.314309</td>\n",
       "      <td>0.0</td>\n",
       "      <td>1.00</td>\n",
       "      <td>1.00</td>\n",
       "      <td>1.0</td>\n",
       "      <td>2.0</td>\n",
       "    </tr>\n",
       "    <tr>\n",
       "      <th>transmission</th>\n",
       "      <td>5380.0</td>\n",
       "      <td>0.912825</td>\n",
       "      <td>0.282117</td>\n",
       "      <td>0.0</td>\n",
       "      <td>1.00</td>\n",
       "      <td>1.00</td>\n",
       "      <td>1.0</td>\n",
       "      <td>1.0</td>\n",
       "    </tr>\n",
       "    <tr>\n",
       "      <th>owner</th>\n",
       "      <td>5380.0</td>\n",
       "      <td>0.878439</td>\n",
       "      <td>1.249688</td>\n",
       "      <td>0.0</td>\n",
       "      <td>0.00</td>\n",
       "      <td>0.00</td>\n",
       "      <td>2.0</td>\n",
       "      <td>4.0</td>\n",
       "    </tr>\n",
       "    <tr>\n",
       "      <th>mileage</th>\n",
       "      <td>5380.0</td>\n",
       "      <td>20.407861</td>\n",
       "      <td>3.630846</td>\n",
       "      <td>0.0</td>\n",
       "      <td>18.12</td>\n",
       "      <td>20.34</td>\n",
       "      <td>22.9</td>\n",
       "      <td>42.0</td>\n",
       "    </tr>\n",
       "    <tr>\n",
       "      <th>engine</th>\n",
       "      <td>5380.0</td>\n",
       "      <td>1269.282156</td>\n",
       "      <td>311.777214</td>\n",
       "      <td>624.0</td>\n",
       "      <td>1086.00</td>\n",
       "      <td>1248.00</td>\n",
       "      <td>1461.0</td>\n",
       "      <td>3604.0</td>\n",
       "    </tr>\n",
       "    <tr>\n",
       "      <th>max_power</th>\n",
       "      <td>5380.0</td>\n",
       "      <td>83.190651</td>\n",
       "      <td>29.172252</td>\n",
       "      <td>32.8</td>\n",
       "      <td>67.10</td>\n",
       "      <td>78.90</td>\n",
       "      <td>88.8</td>\n",
       "      <td>400.0</td>\n",
       "    </tr>\n",
       "    <tr>\n",
       "      <th>torque</th>\n",
       "      <td>5380.0</td>\n",
       "      <td>143.899102</td>\n",
       "      <td>80.632613</td>\n",
       "      <td>4.8</td>\n",
       "      <td>90.00</td>\n",
       "      <td>115.00</td>\n",
       "      <td>190.0</td>\n",
       "      <td>789.0</td>\n",
       "    </tr>\n",
       "    <tr>\n",
       "      <th>brand</th>\n",
       "      <td>5380.0</td>\n",
       "      <td>17.074535</td>\n",
       "      <td>6.979016</td>\n",
       "      <td>0.0</td>\n",
       "      <td>11.00</td>\n",
       "      <td>20.00</td>\n",
       "      <td>20.0</td>\n",
       "      <td>30.0</td>\n",
       "    </tr>\n",
       "    <tr>\n",
       "      <th>model</th>\n",
       "      <td>5380.0</td>\n",
       "      <td>101.479368</td>\n",
       "      <td>63.511882</td>\n",
       "      <td>0.0</td>\n",
       "      <td>44.00</td>\n",
       "      <td>96.00</td>\n",
       "      <td>158.0</td>\n",
       "      <td>196.0</td>\n",
       "    </tr>\n",
       "    <tr>\n",
       "      <th>brand_model</th>\n",
       "      <td>5380.0</td>\n",
       "      <td>118.553903</td>\n",
       "      <td>64.269131</td>\n",
       "      <td>3.0</td>\n",
       "      <td>58.00</td>\n",
       "      <td>115.00</td>\n",
       "      <td>179.0</td>\n",
       "      <td>221.0</td>\n",
       "    </tr>\n",
       "  </tbody>\n",
       "</table>\n",
       "</div>"
      ],
      "text/plain": [
       "                count           mean            std      min        25%  \\\n",
       "year           5380.0    2013.557807       4.023472   1994.0    2011.00   \n",
       "selling_price  5380.0  476208.325279  509922.635640  29999.0  225000.00   \n",
       "km_driven      5380.0   67870.366729   53626.305396      1.0   35000.00   \n",
       "fuel           5380.0       2.057807       1.009070      0.0       1.00   \n",
       "seller_type    5380.0       0.901115       0.314309      0.0       1.00   \n",
       "transmission   5380.0       0.912825       0.282117      0.0       1.00   \n",
       "owner          5380.0       0.878439       1.249688      0.0       0.00   \n",
       "mileage        5380.0      20.407861       3.630846      0.0      18.12   \n",
       "engine         5380.0    1269.282156     311.777214    624.0    1086.00   \n",
       "max_power      5380.0      83.190651      29.172252     32.8      67.10   \n",
       "torque         5380.0     143.899102      80.632613      4.8      90.00   \n",
       "brand          5380.0      17.074535       6.979016      0.0      11.00   \n",
       "model          5380.0     101.479368      63.511882      0.0      44.00   \n",
       "brand_model    5380.0     118.553903      64.269131      3.0      58.00   \n",
       "\n",
       "                     50%       75%         max  \n",
       "year             2014.00    2017.0      2020.0  \n",
       "selling_price  375000.00  585000.0  10000000.0  \n",
       "km_driven       60000.00   90000.0   2360457.0  \n",
       "fuel                3.00       3.0         3.0  \n",
       "seller_type         1.00       1.0         2.0  \n",
       "transmission        1.00       1.0         1.0  \n",
       "owner               0.00       2.0         4.0  \n",
       "mileage            20.34      22.9        42.0  \n",
       "engine           1248.00    1461.0      3604.0  \n",
       "max_power          78.90      88.8       400.0  \n",
       "torque            115.00     190.0       789.0  \n",
       "brand              20.00      20.0        30.0  \n",
       "model              96.00     158.0       196.0  \n",
       "brand_model       115.00     179.0       221.0  "
      ]
     },
     "execution_count": 60,
     "metadata": {},
     "output_type": "execute_result"
    }
   ],
   "source": [
    "df.describe().T"
   ]
  },
  {
   "cell_type": "code",
   "execution_count": 62,
   "id": "4f3e2829-f62e-412f-aaba-fac4005acaa7",
   "metadata": {},
   "outputs": [],
   "source": [
    "# Veri setindeki aykiriliklari temizlemeliyiz."
   ]
  },
  {
   "cell_type": "code",
   "execution_count": 64,
   "id": "ec1ef8a5-d0f7-42ca-9cd0-0ebc5ee7b0b6",
   "metadata": {},
   "outputs": [],
   "source": [
    "# Sayısal koşullara göre aykırı değerleri temizleme\n",
    "def filter_by_conditions(df):\n",
    "    # 'year' değişkeni için 1994 ile 2020 aralığında\n",
    "    df = df[(df['year'] >= 1994) & (df['year'] <= 2020)]\n",
    "    \n",
    "    # 'selling_price' değişkeni için \n",
    "    df = df[(df['selling_price'] >= 100000) & (df['selling_price'] <= 900000)]\n",
    "    \n",
    "    # 'km_driven' değişkeni için 1 ile 2360457 aralığında\n",
    "    df = df[(df['km_driven'] >= 1) & (df['km_driven'] <= 135000)]\n",
    "    \n",
    "    return df\n",
    "\n",
    "# Filtreleme işlemini uygulama\n",
    "df = filter_by_conditions(df)"
   ]
  },
  {
   "cell_type": "code",
   "execution_count": 66,
   "id": "15044ede-2760-4136-bfb1-889c08c19115",
   "metadata": {},
   "outputs": [
    {
     "data": {
      "text/plain": [
       "(4360, 15)"
      ]
     },
     "execution_count": 66,
     "metadata": {},
     "output_type": "execute_result"
    }
   ],
   "source": [
    "# IQR yöntemiyle aykırı değerleri temizleme fonksiyonu\n",
    "def remove_outliers(df, column, multiplier=1.5):\n",
    "    Q1 = df[column].quantile(0.25)\n",
    "    Q3 = df[column].quantile(0.75)\n",
    "    IQR = Q3 - Q1\n",
    "    lower_bound = Q1 - multiplier * IQR\n",
    "    upper_bound = Q3 + multiplier * IQR\n",
    "    return df[(df[column] >= lower_bound) & (df[column] <= upper_bound)]\n",
    "\n",
    "# Farklı çarpanlar için her değişkende aykırı değerleri temizleme\n",
    "df_cleaned = remove_outliers(df, 'selling_price', multiplier=1.5)  # Orta düzeyde IQR çarpanı\n",
    "df_cleaned = remove_outliers(df_cleaned, 'km_driven', multiplier=2.5)  # Daha yüksek değişkenlik için daha esnek\n",
    "df_cleaned = remove_outliers(df_cleaned, 'mileage', multiplier=1.8)  # Biraz daha geniş bir çarpan\n",
    "df_cleaned = remove_outliers(df_cleaned, 'engine', multiplier=1.5)  # Genelde IQR çarpanı yeterli\n",
    "df_cleaned = remove_outliers(df_cleaned, 'max_power', multiplier=2.0)  # Daha geniş veri aralığı için\n",
    "df_cleaned = remove_outliers(df_cleaned, 'torque', multiplier=2.0)  # Daha geniş veri aralığı için\n",
    "\n",
    "# Temizlik sonrası orijinal df'e atama\n",
    "df = df_cleaned\n",
    "\n",
    "# Temizlenmiş veri setinin boyutlarını kontrol etme\n",
    "df.shape"
   ]
  },
  {
   "cell_type": "markdown",
   "id": "2a55c9c0-e8dc-464f-a0cb-288b95f809d3",
   "metadata": {},
   "source": [
    "|0.8 ve üzeri korelasyona sahip (pozitif veya negatif) özellikler arasından sadece birini seç.\n",
    "|0.3 ile |0.7| arasında olan orta korelasyonlu özellikleri değerlendir, ancak gerekirse seçici ol.\n",
    "|0.2 ve altındaki düşük korelasyonlu özellikleri modelde tutmayı düşün, çünkü genellikle bağımsız bilgi sağlar."
   ]
  },
  {
   "cell_type": "code",
   "execution_count": 69,
   "id": "61ceaeee-2066-43c3-9df9-857f1260ec08",
   "metadata": {},
   "outputs": [
    {
     "data": {
      "image/png": "[encoded data removed]",
      "text/plain": [
       "<Figure size 1500x1000 with 2 Axes>"
      ]
     },
     "metadata": {},
     "output_type": "display_data"
    }
   ],
   "source": [
    "# Sadece sayısal sütunları seçme\n",
    "numeric_df = df.select_dtypes(include=['float64', 'int64'])\n",
    "\n",
    "# Sayısal sütunlarla korelasyon matrisini oluşturma\n",
    "correlation_matrix = numeric_df.corr()\n",
    "\n",
    "# Korelasyon matrisini görselleştirme\n",
    "plt.figure(figsize=(15, 10))\n",
    "sns.heatmap(correlation_matrix, annot=True, cmap='coolwarm', linewidths=0.5)\n",
    "plt.title('Correlation Heatmap of Numeric Features')\n",
    "plt.show()"
   ]
  },
  {
   "cell_type": "code",
   "execution_count": 71,
   "id": "9099fa3a-7960-4efc-adf0-c797df6eb921",
   "metadata": {},
   "outputs": [
    {
     "data": {
      "image/png": "[encoded data removed]",
      "text/plain": [
       "<Figure size 1000x600 with 1 Axes>"
      ]
     },
     "metadata": {},
     "output_type": "display_data"
    }
   ],
   "source": [
    "# Aykırı değerleri görmek için boxplot oluşturma\n",
    "plt.figure(figsize=(10,6))\n",
    "sns.boxplot(data=df_cleaned[['year', 'selling_price', 'km_driven', 'mileage', 'engine', 'max_power', 'torque']])\n",
    "plt.title('Boxplot of Numerical Features')\n",
    "plt.show()"
   ]
  },
  {
   "cell_type": "code",
   "execution_count": 73,
   "id": "51dc647c-5e3d-4437-ad65-9eb384feca35",
   "metadata": {},
   "outputs": [],
   "source": [
    "# Scaling Yapma"
   ]
  },
  {
   "cell_type": "code",
   "execution_count": 75,
   "id": "7d1129dc-1a35-408a-bf25-39ef6ceeaf46",
   "metadata": {},
   "outputs": [],
   "source": [
    "from sklearn.preprocessing import MinMaxScaler\n",
    "\n",
    "# Kullanmak istediğiniz özellikleri seçin\n",
    "features = ['year', 'km_driven', 'mileage', 'engine', 'max_power', 'torque']\n",
    "\n",
    "# Seçili özellikleri ölçekleyin\n",
    "scaler = MinMaxScaler()\n",
    "df[features] = scaler.fit_transform(df[features])"
   ]
  },
  {
   "cell_type": "code",
   "execution_count": 77,
   "id": "8fe86679-5183-4c4f-854b-7ef367fdd18e",
   "metadata": {},
   "outputs": [],
   "source": [
    "# Model Olusturma ve Egitme"
   ]
  },
  {
   "cell_type": "code",
   "execution_count": 79,
   "id": "f1e73fd2-f8f4-4a33-801c-f2bdb844a173",
   "metadata": {},
   "outputs": [
    {
     "data": {
      "text/html": [
       "<div>\n",
       "<style scoped>\n",
       "    .dataframe tbody tr th:only-of-type {\n",
       "        vertical-align: middle;\n",
       "    }\n",
       "\n",
       "    .dataframe tbody tr th {\n",
       "        vertical-align: top;\n",
       "    }\n",
       "\n",
       "    .dataframe thead th {\n",
       "        text-align: right;\n",
       "    }\n",
       "</style>\n",
       "<table border=\"1\" class=\"dataframe\">\n",
       "  <thead>\n",
       "    <tr style=\"text-align: right;\">\n",
       "      <th></th>\n",
       "      <th>name</th>\n",
       "      <th>year</th>\n",
       "      <th>selling_price</th>\n",
       "      <th>km_driven</th>\n",
       "      <th>fuel</th>\n",
       "      <th>seller_type</th>\n",
       "      <th>transmission</th>\n",
       "      <th>owner</th>\n",
       "      <th>mileage</th>\n",
       "      <th>engine</th>\n",
       "      <th>max_power</th>\n",
       "      <th>torque</th>\n",
       "      <th>brand</th>\n",
       "      <th>model</th>\n",
       "      <th>brand_model</th>\n",
       "    </tr>\n",
       "  </thead>\n",
       "  <tbody>\n",
       "    <tr>\n",
       "      <th>1</th>\n",
       "      <td>Skoda Rapid 1.5 TDI Ambition</td>\n",
       "      <td>0.73913</td>\n",
       "      <td>370000</td>\n",
       "      <td>0.888888</td>\n",
       "      <td>1</td>\n",
       "      <td>1</td>\n",
       "      <td>1</td>\n",
       "      <td>2</td>\n",
       "      <td>0.495125</td>\n",
       "      <td>0.74383</td>\n",
       "      <td>0.723591</td>\n",
       "      <td>0.960676</td>\n",
       "      <td>26</td>\n",
       "      <td>126</td>\n",
       "      <td>152</td>\n",
       "    </tr>\n",
       "  </tbody>\n",
       "</table>\n",
       "</div>"
      ],
      "text/plain": [
       "                           name     year  selling_price  km_driven  fuel  \\\n",
       "1  Skoda Rapid 1.5 TDI Ambition  0.73913         370000   0.888888     1   \n",
       "\n",
       "   seller_type  transmission  owner   mileage   engine  max_power    torque  \\\n",
       "1            1             1      2  0.495125  0.74383   0.723591  0.960676   \n",
       "\n",
       "   brand  model  brand_model  \n",
       "1     26    126          152  "
      ]
     },
     "execution_count": 79,
     "metadata": {},
     "output_type": "execute_result"
    }
   ],
   "source": [
    "df.head(1)"
   ]
  },
  {
   "cell_type": "code",
   "execution_count": 81,
   "id": "808c4724-718a-4c87-b6a7-b42217c1bd0b",
   "metadata": {},
   "outputs": [],
   "source": [
    "from sklearn.model_selection import train_test_split\n",
    "import tensorflow as tf\n",
    "from keras.models import Sequential\n",
    "from keras.layers import Dense\n",
    "\n",
    "# Veri setini yükleyin (örneğin: df)\n",
    "# Özellik ve hedef değişkenleri ayırın\n",
    "X = df[['year', 'km_driven', 'mileage', 'engine', 'max_power', 'torque', 'mileage', 'fuel', 'transmission', 'seller_type', 'model', 'brand_model']]\n",
    "# X = df[['year', 'km_driven', 'mileage', 'engine', 'max_power', 'torque']]\n",
    "\n",
    "y = df['selling_price']"
   ]
  },
  {
   "cell_type": "code",
   "execution_count": 83,
   "id": "e73d5ef0-8459-45dc-b81f-7c37d367813b",
   "metadata": {},
   "outputs": [],
   "source": [
    "# Veriyi %80 eğitim, %20 test olarak ayırma\n",
    "X_train, X_test, y_train, y_test = train_test_split(X, y, test_size=0.2, random_state=42)"
   ]
  },
  {
   "cell_type": "code",
   "execution_count": 85,
   "id": "5141cc40-1818-4536-b68a-351e11689f7f",
   "metadata": {},
   "outputs": [
    {
     "name": "stderr",
     "output_type": "stream",
     "text": [
      "/opt/anaconda3/lib/python3.10/site-packages/keras/src/layers/core/dense.py:87: UserWarning: Do not pass an `input_shape`/`input_dim` argument to a layer. When using Sequential models, prefer using an `Input(shape)` object as the first layer in the model instead.\n",
      "  super().__init__(activity_regularizer=activity_regularizer, **kwargs)\n"
     ]
    }
   ],
   "source": [
    "# Modeli tanımla\n",
    "model = Sequential()\n",
    "\n",
    "# İlk gizli katman (Dense layer)\n",
    "model.add(Dense(12, input_dim=X_train.shape[1], activation='relu'))\n",
    "\n",
    "# İkinci gizli katman\n",
    "model.add(Dense(128, activation='relu'))\n",
    "\n",
    "# Üçüncü gizli katman\n",
    "model.add(Dense(128, activation='relu'))\n",
    "\n",
    "model.add(Dense(64, activation='relu'))\n",
    "\n",
    "# Çıkış katmanı (regresyon olduğu için aktivasyon fonksiyonu yok)\n",
    "model.add(Dense(1))"
   ]
  },
  {
   "cell_type": "code",
   "execution_count": 99,
   "id": "24bcd3ea-da88-409f-94f1-6f0bd03f151c",
   "metadata": {},
   "outputs": [
    {
     "name": "stdout",
     "output_type": "stream",
     "text": [
      "Epoch 1/100\n",
      "\u001b[1m218/218\u001b[0m \u001b[32m━━━━━━━━━━━━━━━━━━━━\u001b[0m\u001b[37m\u001b[0m \u001b[1m0s\u001b[0m 556us/step - loss: 59218436096.0000 - mae: 190488.7812 - val_loss: 61264297984.0000 - val_mae: 188265.0781\n",
      "Epoch 2/100\n",
      "\u001b[1m218/218\u001b[0m \u001b[32m━━━━━━━━━━━━━━━━━━━━\u001b[0m\u001b[37m\u001b[0m \u001b[1m0s\u001b[0m 370us/step - loss: 55825330176.0000 - mae: 184550.4219 - val_loss: 60793012224.0000 - val_mae: 187510.5156\n",
      "Epoch 3/100\n",
      "\u001b[1m218/218\u001b[0m \u001b[32m━━━━━━━━━━━━━━━━━━━━\u001b[0m\u001b[37m\u001b[0m \u001b[1m0s\u001b[0m 355us/step - loss: 57451003904.0000 - mae: 187173.7656 - val_loss: 60305375232.0000 - val_mae: 186685.4844\n",
      "Epoch 4/100\n",
      "\u001b[1m218/218\u001b[0m \u001b[32m━━━━━━━━━━━━━━━━━━━━\u001b[0m\u001b[37m\u001b[0m \u001b[1m0s\u001b[0m 359us/step - loss: 54861438976.0000 - mae: 181127.6875 - val_loss: 59792945152.0000 - val_mae: 185870.7344\n",
      "Epoch 5/100\n",
      "\u001b[1m218/218\u001b[0m \u001b[32m━━━━━━━━━━━━━━━━━━━━\u001b[0m\u001b[37m\u001b[0m \u001b[1m0s\u001b[0m 379us/step - loss: 56398430208.0000 - mae: 183759.6719 - val_loss: 59208372224.0000 - val_mae: 185138.8281\n",
      "Epoch 6/100\n",
      "\u001b[1m218/218\u001b[0m \u001b[32m━━━━━━━━━━━━━━━━━━━━\u001b[0m\u001b[37m\u001b[0m \u001b[1m0s\u001b[0m 368us/step - loss: 53719420928.0000 - mae: 179335.9844 - val_loss: 58667458560.0000 - val_mae: 184142.8125\n",
      "Epoch 7/100\n",
      "\u001b[1m218/218\u001b[0m \u001b[32m━━━━━━━━━━━━━━━━━━━━\u001b[0m\u001b[37m\u001b[0m \u001b[1m0s\u001b[0m 379us/step - loss: 51903528960.0000 - mae: 177312.7188 - val_loss: 58063798272.0000 - val_mae: 183187.2812\n",
      "Epoch 8/100\n",
      "\u001b[1m218/218\u001b[0m \u001b[32m━━━━━━━━━━━━━━━━━━━━\u001b[0m\u001b[37m\u001b[0m \u001b[1m0s\u001b[0m 369us/step - loss: 53368049664.0000 - mae: 180254.5000 - val_loss: 57468530688.0000 - val_mae: 182118.9062\n",
      "Epoch 9/100\n",
      "\u001b[1m218/218\u001b[0m \u001b[32m━━━━━━━━━━━━━━━━━━━━\u001b[0m\u001b[37m\u001b[0m \u001b[1m0s\u001b[0m 367us/step - loss: 49982124032.0000 - mae: 173797.6406 - val_loss: 56779141120.0000 - val_mae: 181126.4062\n",
      "Epoch 10/100\n",
      "\u001b[1m218/218\u001b[0m \u001b[32m━━━━━━━━━━━━━━━━━━━━\u001b[0m\u001b[37m\u001b[0m \u001b[1m0s\u001b[0m 369us/step - loss: 53494317056.0000 - mae: 179289.7031 - val_loss: 56077066240.0000 - val_mae: 180012.9375\n",
      "Epoch 11/100\n",
      "\u001b[1m218/218\u001b[0m \u001b[32m━━━━━━━━━━━━━━━━━━━━\u001b[0m\u001b[37m\u001b[0m \u001b[1m0s\u001b[0m 362us/step - loss: 52623437824.0000 - mae: 178586.7500 - val_loss: 55315578880.0000 - val_mae: 178957.2188\n",
      "Epoch 12/100\n",
      "\u001b[1m218/218\u001b[0m \u001b[32m━━━━━━━━━━━━━━━━━━━━\u001b[0m\u001b[37m\u001b[0m \u001b[1m0s\u001b[0m 358us/step - loss: 50918924288.0000 - mae: 175207.3906 - val_loss: 54516543488.0000 - val_mae: 177817.5781\n",
      "Epoch 13/100\n",
      "\u001b[1m218/218\u001b[0m \u001b[32m━━━━━━━━━━━━━━━━━━━━\u001b[0m\u001b[37m\u001b[0m \u001b[1m0s\u001b[0m 356us/step - loss: 49542459392.0000 - mae: 173547.9375 - val_loss: 53670334464.0000 - val_mae: 176564.8594\n",
      "Epoch 14/100\n",
      "\u001b[1m218/218\u001b[0m \u001b[32m━━━━━━━━━━━━━━━━━━━━\u001b[0m\u001b[37m\u001b[0m \u001b[1m0s\u001b[0m 356us/step - loss: 50361282560.0000 - mae: 173197.7500 - val_loss: 52758913024.0000 - val_mae: 175464.8750\n",
      "Epoch 15/100\n",
      "\u001b[1m218/218\u001b[0m \u001b[32m━━━━━━━━━━━━━━━━━━━━\u001b[0m\u001b[37m\u001b[0m \u001b[1m0s\u001b[0m 357us/step - loss: 47869452288.0000 - mae: 169189.4844 - val_loss: 52035096576.0000 - val_mae: 173846.6406\n",
      "Epoch 16/100\n",
      "\u001b[1m218/218\u001b[0m \u001b[32m━━━━━━━━━━━━━━━━━━━━\u001b[0m\u001b[37m\u001b[0m \u001b[1m0s\u001b[0m 356us/step - loss: 45842653184.0000 - mae: 166957.8438 - val_loss: 50866319360.0000 - val_mae: 173198.4375\n",
      "Epoch 17/100\n",
      "\u001b[1m218/218\u001b[0m \u001b[32m━━━━━━━━━━━━━━━━━━━━\u001b[0m\u001b[37m\u001b[0m \u001b[1m0s\u001b[0m 353us/step - loss: 49705947136.0000 - mae: 174999.5938 - val_loss: 49922842624.0000 - val_mae: 171616.0625\n",
      "Epoch 18/100\n",
      "\u001b[1m218/218\u001b[0m \u001b[32m━━━━━━━━━━━━━━━━━━━━\u001b[0m\u001b[37m\u001b[0m \u001b[1m0s\u001b[0m 359us/step - loss: 46359556096.0000 - mae: 168022.7344 - val_loss: 48887320576.0000 - val_mae: 170420.3125\n",
      "Epoch 19/100\n",
      "\u001b[1m218/218\u001b[0m \u001b[32m━━━━━━━━━━━━━━━━━━━━\u001b[0m\u001b[37m\u001b[0m \u001b[1m0s\u001b[0m 357us/step - loss: 47033516032.0000 - mae: 169816.3438 - val_loss: 47946342400.0000 - val_mae: 168839.7031\n",
      "Epoch 20/100\n",
      "\u001b[1m218/218\u001b[0m \u001b[32m━━━━━━━━━━━━━━━━━━━━\u001b[0m\u001b[37m\u001b[0m \u001b[1m0s\u001b[0m 360us/step - loss: 46170611712.0000 - mae: 169455.8750 - val_loss: 46845845504.0000 - val_mae: 167762.0156\n",
      "Epoch 21/100\n",
      "\u001b[1m218/218\u001b[0m \u001b[32m━━━━━━━━━━━━━━━━━━━━\u001b[0m\u001b[37m\u001b[0m \u001b[1m0s\u001b[0m 368us/step - loss: 43794481152.0000 - mae: 164683.0469 - val_loss: 45900898304.0000 - val_mae: 166579.6094\n",
      "Epoch 22/100\n",
      "\u001b[1m218/218\u001b[0m \u001b[32m━━━━━━━━━━━━━━━━━━━━\u001b[0m\u001b[37m\u001b[0m \u001b[1m0s\u001b[0m 373us/step - loss: 43300290560.0000 - mae: 162646.7969 - val_loss: 45015191552.0000 - val_mae: 165495.1250\n",
      "Epoch 23/100\n",
      "\u001b[1m218/218\u001b[0m \u001b[32m━━━━━━━━━━━━━━━━━━━━\u001b[0m\u001b[37m\u001b[0m \u001b[1m0s\u001b[0m 367us/step - loss: 41812652032.0000 - mae: 160134.3750 - val_loss: 44128632832.0000 - val_mae: 164621.1406\n",
      "Epoch 24/100\n",
      "\u001b[1m218/218\u001b[0m \u001b[32m━━━━━━━━━━━━━━━━━━━━\u001b[0m\u001b[37m\u001b[0m \u001b[1m0s\u001b[0m 365us/step - loss: 41308016640.0000 - mae: 161226.3438 - val_loss: 43292864512.0000 - val_mae: 163975.4844\n",
      "Epoch 25/100\n",
      "\u001b[1m218/218\u001b[0m \u001b[32m━━━━━━━━━━━━━━━━━━━━\u001b[0m\u001b[37m\u001b[0m \u001b[1m0s\u001b[0m 367us/step - loss: 42763292672.0000 - mae: 165719.7656 - val_loss: 42518708224.0000 - val_mae: 163511.0781\n",
      "Epoch 26/100\n",
      "\u001b[1m218/218\u001b[0m \u001b[32m━━━━━━━━━━━━━━━━━━━━\u001b[0m\u001b[37m\u001b[0m \u001b[1m0s\u001b[0m 366us/step - loss: 39135100928.0000 - mae: 158254.8125 - val_loss: 41821601792.0000 - val_mae: 163769.5938\n",
      "Epoch 27/100\n",
      "\u001b[1m218/218\u001b[0m \u001b[32m━━━━━━━━━━━━━━━━━━━━\u001b[0m\u001b[37m\u001b[0m \u001b[1m0s\u001b[0m 363us/step - loss: 40329924608.0000 - mae: 162327.4688 - val_loss: 41274306560.0000 - val_mae: 162647.5469\n",
      "Epoch 28/100\n",
      "\u001b[1m218/218\u001b[0m \u001b[32m━━━━━━━━━━━━━━━━━━━━\u001b[0m\u001b[37m\u001b[0m \u001b[1m0s\u001b[0m 366us/step - loss: 39453925376.0000 - mae: 160863.9531 - val_loss: 40838307840.0000 - val_mae: 162384.1094\n",
      "Epoch 29/100\n",
      "\u001b[1m218/218\u001b[0m \u001b[32m━━━━━━━━━━━━━━━━━━━━\u001b[0m\u001b[37m\u001b[0m \u001b[1m0s\u001b[0m 367us/step - loss: 37478019072.0000 - mae: 156566.6406 - val_loss: 40295292928.0000 - val_mae: 163013.9844\n",
      "Epoch 30/100\n",
      "\u001b[1m218/218\u001b[0m \u001b[32m━━━━━━━━━━━━━━━━━━━━\u001b[0m\u001b[37m\u001b[0m \u001b[1m0s\u001b[0m 367us/step - loss: 37692633088.0000 - mae: 157661.6562 - val_loss: 39932878848.0000 - val_mae: 162789.6094\n",
      "Epoch 31/100\n",
      "\u001b[1m218/218\u001b[0m \u001b[32m━━━━━━━━━━━━━━━━━━━━\u001b[0m\u001b[37m\u001b[0m \u001b[1m0s\u001b[0m 365us/step - loss: 38140854272.0000 - mae: 159857.5469 - val_loss: 39616679936.0000 - val_mae: 162894.6250\n",
      "Epoch 32/100\n",
      "\u001b[1m218/218\u001b[0m \u001b[32m━━━━━━━━━━━━━━━━━━━━\u001b[0m\u001b[37m\u001b[0m \u001b[1m0s\u001b[0m 370us/step - loss: 36526686208.0000 - mae: 156140.3281 - val_loss: 39387947008.0000 - val_mae: 162589.9062\n",
      "Epoch 33/100\n",
      "\u001b[1m218/218\u001b[0m \u001b[32m━━━━━━━━━━━━━━━━━━━━\u001b[0m\u001b[37m\u001b[0m \u001b[1m0s\u001b[0m 363us/step - loss: 36676329472.0000 - mae: 156164.5156 - val_loss: 39221084160.0000 - val_mae: 162413.0938\n",
      "Epoch 34/100\n",
      "\u001b[1m218/218\u001b[0m \u001b[32m━━━━━━━━━━━━━━━━━━━━\u001b[0m\u001b[37m\u001b[0m \u001b[1m0s\u001b[0m 366us/step - loss: 38038036480.0000 - mae: 159862.6250 - val_loss: 38959378432.0000 - val_mae: 162556.8281\n",
      "Epoch 35/100\n",
      "\u001b[1m218/218\u001b[0m \u001b[32m━━━━━━━━━━━━━━━━━━━━\u001b[0m\u001b[37m\u001b[0m \u001b[1m0s\u001b[0m 369us/step - loss: 36219412480.0000 - mae: 157436.2969 - val_loss: 38735437824.0000 - val_mae: 162808.1406\n",
      "Epoch 36/100\n",
      "\u001b[1m218/218\u001b[0m \u001b[32m━━━━━━━━━━━━━━━━━━━━\u001b[0m\u001b[37m\u001b[0m \u001b[1m0s\u001b[0m 363us/step - loss: 36757315584.0000 - mae: 158508.3594 - val_loss: 38667030528.0000 - val_mae: 162399.5781\n",
      "Epoch 37/100\n",
      "\u001b[1m218/218\u001b[0m \u001b[32m━━━━━━━━━━━━━━━━━━━━\u001b[0m\u001b[37m\u001b[0m \u001b[1m0s\u001b[0m 368us/step - loss: 37450002432.0000 - mae: 160509.7188 - val_loss: 38482227200.0000 - val_mae: 162441.6719\n",
      "Epoch 38/100\n",
      "\u001b[1m218/218\u001b[0m \u001b[32m━━━━━━━━━━━━━━━━━━━━\u001b[0m\u001b[37m\u001b[0m \u001b[1m0s\u001b[0m 364us/step - loss: 34856275968.0000 - mae: 154480.6406 - val_loss: 38284886016.0000 - val_mae: 163106.2031\n",
      "Epoch 39/100\n",
      "\u001b[1m218/218\u001b[0m \u001b[32m━━━━━━━━━━━━━━━━━━━━\u001b[0m\u001b[37m\u001b[0m \u001b[1m0s\u001b[0m 368us/step - loss: 36420468736.0000 - mae: 157026.2812 - val_loss: 38159032320.0000 - val_mae: 163074.9531\n",
      "Epoch 40/100\n",
      "\u001b[1m218/218\u001b[0m \u001b[32m━━━━━━━━━━━━━━━━━━━━\u001b[0m\u001b[37m\u001b[0m \u001b[1m0s\u001b[0m 368us/step - loss: 36119973888.0000 - mae: 157326.3438 - val_loss: 38092234752.0000 - val_mae: 162289.6094\n",
      "Epoch 41/100\n",
      "\u001b[1m218/218\u001b[0m \u001b[32m━━━━━━━━━━━━━━━━━━━━\u001b[0m\u001b[37m\u001b[0m \u001b[1m0s\u001b[0m 367us/step - loss: 36901289984.0000 - mae: 160399.3906 - val_loss: 38068097024.0000 - val_mae: 161971.7031\n",
      "Epoch 42/100\n",
      "\u001b[1m218/218\u001b[0m \u001b[32m━━━━━━━━━━━━━━━━━━━━\u001b[0m\u001b[37m\u001b[0m \u001b[1m0s\u001b[0m 370us/step - loss: 36037083136.0000 - mae: 156976.0938 - val_loss: 37822152704.0000 - val_mae: 162289.2969\n",
      "Epoch 43/100\n",
      "\u001b[1m218/218\u001b[0m \u001b[32m━━━━━━━━━━━━━━━━━━━━\u001b[0m\u001b[37m\u001b[0m \u001b[1m0s\u001b[0m 373us/step - loss: 35758354432.0000 - mae: 157897.4062 - val_loss: 37893566464.0000 - val_mae: 161624.0625\n",
      "Epoch 44/100\n",
      "\u001b[1m218/218\u001b[0m \u001b[32m━━━━━━━━━━━━━━━━━━━━\u001b[0m\u001b[37m\u001b[0m \u001b[1m0s\u001b[0m 370us/step - loss: 35511767040.0000 - mae: 155680.2500 - val_loss: 37582028800.0000 - val_mae: 162252.0781\n",
      "Epoch 45/100\n",
      "\u001b[1m218/218\u001b[0m \u001b[32m━━━━━━━━━━━━━━━━━━━━\u001b[0m\u001b[37m\u001b[0m \u001b[1m0s\u001b[0m 371us/step - loss: 35885846528.0000 - mae: 157621.8438 - val_loss: 37529784320.0000 - val_mae: 161675.1562\n",
      "Epoch 46/100\n",
      "\u001b[1m218/218\u001b[0m \u001b[32m━━━━━━━━━━━━━━━━━━━━\u001b[0m\u001b[37m\u001b[0m \u001b[1m0s\u001b[0m 370us/step - loss: 33928968192.0000 - mae: 152758.6719 - val_loss: 37387882496.0000 - val_mae: 161717.4844\n",
      "Epoch 47/100\n",
      "\u001b[1m218/218\u001b[0m \u001b[32m━━━━━━━━━━━━━━━━━━━━\u001b[0m\u001b[37m\u001b[0m \u001b[1m0s\u001b[0m 369us/step - loss: 35496947712.0000 - mae: 156348.0312 - val_loss: 37280399360.0000 - val_mae: 161556.6562\n",
      "Epoch 48/100\n",
      "\u001b[1m218/218\u001b[0m \u001b[32m━━━━━━━━━━━━━━━━━━━━\u001b[0m\u001b[37m\u001b[0m \u001b[1m0s\u001b[0m 373us/step - loss: 36103823360.0000 - mae: 159551.6250 - val_loss: 37212282880.0000 - val_mae: 161194.6250\n",
      "Epoch 49/100\n",
      "\u001b[1m218/218\u001b[0m \u001b[32m━━━━━━━━━━━━━━━━━━━━\u001b[0m\u001b[37m\u001b[0m \u001b[1m0s\u001b[0m 368us/step - loss: 34966319104.0000 - mae: 155460.2188 - val_loss: 37084024832.0000 - val_mae: 161133.9844\n",
      "Epoch 50/100\n",
      "\u001b[1m218/218\u001b[0m \u001b[32m━━━━━━━━━━━━━━━━━━━━\u001b[0m\u001b[37m\u001b[0m \u001b[1m0s\u001b[0m 369us/step - loss: 34915303424.0000 - mae: 155338.3750 - val_loss: 36994207744.0000 - val_mae: 160865.7656\n",
      "Epoch 51/100\n",
      "\u001b[1m218/218\u001b[0m \u001b[32m━━━━━━━━━━━━━━━━━━━━\u001b[0m\u001b[37m\u001b[0m \u001b[1m0s\u001b[0m 370us/step - loss: 33982769152.0000 - mae: 152854.7344 - val_loss: 36889600000.0000 - val_mae: 160680.6250\n",
      "Epoch 52/100\n",
      "\u001b[1m218/218\u001b[0m \u001b[32m━━━━━━━━━━━━━━━━━━━━\u001b[0m\u001b[37m\u001b[0m \u001b[1m0s\u001b[0m 370us/step - loss: 34765656064.0000 - mae: 156194.5000 - val_loss: 36770271232.0000 - val_mae: 160561.4531\n",
      "Epoch 53/100\n",
      "\u001b[1m218/218\u001b[0m \u001b[32m━━━━━━━━━━━━━━━━━━━━\u001b[0m\u001b[37m\u001b[0m \u001b[1m0s\u001b[0m 371us/step - loss: 33788606464.0000 - mae: 152447.5156 - val_loss: 36627496960.0000 - val_mae: 160783.5469\n",
      "Epoch 54/100\n",
      "\u001b[1m218/218\u001b[0m \u001b[32m━━━━━━━━━━━━━━━━━━━━\u001b[0m\u001b[37m\u001b[0m \u001b[1m0s\u001b[0m 371us/step - loss: 34100418560.0000 - mae: 154658.7188 - val_loss: 36580491264.0000 - val_mae: 160062.5156\n",
      "Epoch 55/100\n",
      "\u001b[1m218/218\u001b[0m \u001b[32m━━━━━━━━━━━━━━━━━━━━\u001b[0m\u001b[37m\u001b[0m \u001b[1m0s\u001b[0m 372us/step - loss: 33550071808.0000 - mae: 153541.6094 - val_loss: 36451008512.0000 - val_mae: 159966.9688\n",
      "Epoch 56/100\n",
      "\u001b[1m218/218\u001b[0m \u001b[32m━━━━━━━━━━━━━━━━━━━━\u001b[0m\u001b[37m\u001b[0m \u001b[1m0s\u001b[0m 373us/step - loss: 35663134720.0000 - mae: 157666.7500 - val_loss: 36380917760.0000 - val_mae: 159594.3594\n",
      "Epoch 57/100\n",
      "\u001b[1m218/218\u001b[0m \u001b[32m━━━━━━━━━━━━━━━━━━━━\u001b[0m\u001b[37m\u001b[0m \u001b[1m0s\u001b[0m 370us/step - loss: 35018366976.0000 - mae: 156097.0469 - val_loss: 36235923456.0000 - val_mae: 159505.4844\n",
      "Epoch 58/100\n",
      "\u001b[1m218/218\u001b[0m \u001b[32m━━━━━━━━━━━━━━━━━━━━\u001b[0m\u001b[37m\u001b[0m \u001b[1m0s\u001b[0m 372us/step - loss: 34720272384.0000 - mae: 155426.3438 - val_loss: 36122816512.0000 - val_mae: 159295.8594\n",
      "Epoch 59/100\n",
      "\u001b[1m218/218\u001b[0m \u001b[32m━━━━━━━━━━━━━━━━━━━━\u001b[0m\u001b[37m\u001b[0m \u001b[1m0s\u001b[0m 370us/step - loss: 34609348608.0000 - mae: 154959.5000 - val_loss: 36027473920.0000 - val_mae: 159003.4062\n",
      "Epoch 60/100\n",
      "\u001b[1m218/218\u001b[0m \u001b[32m━━━━━━━━━━━━━━━━━━━━\u001b[0m\u001b[37m\u001b[0m \u001b[1m0s\u001b[0m 370us/step - loss: 33498613760.0000 - mae: 152155.6562 - val_loss: 35858030592.0000 - val_mae: 159238.8750\n",
      "Epoch 61/100\n",
      "\u001b[1m218/218\u001b[0m \u001b[32m━━━━━━━━━━━━━━━━━━━━\u001b[0m\u001b[37m\u001b[0m \u001b[1m0s\u001b[0m 368us/step - loss: 34126295040.0000 - mae: 154435.5625 - val_loss: 35890552832.0000 - val_mae: 158332.5000\n",
      "Epoch 62/100\n",
      "\u001b[1m218/218\u001b[0m \u001b[32m━━━━━━━━━━━━━━━━━━━━\u001b[0m\u001b[37m\u001b[0m \u001b[1m0s\u001b[0m 368us/step - loss: 34047807488.0000 - mae: 153413.0156 - val_loss: 35744808960.0000 - val_mae: 158202.5312\n",
      "Epoch 63/100\n",
      "\u001b[1m218/218\u001b[0m \u001b[32m━━━━━━━━━━━━━━━━━━━━\u001b[0m\u001b[37m\u001b[0m \u001b[1m0s\u001b[0m 371us/step - loss: 32625960960.0000 - mae: 149785.5469 - val_loss: 35589296128.0000 - val_mae: 158096.1250\n",
      "Epoch 64/100\n",
      "\u001b[1m218/218\u001b[0m \u001b[32m━━━━━━━━━━━━━━━━━━━━\u001b[0m\u001b[37m\u001b[0m \u001b[1m0s\u001b[0m 367us/step - loss: 33553645568.0000 - mae: 152582.8594 - val_loss: 35460792320.0000 - val_mae: 157925.4375\n",
      "Epoch 65/100\n",
      "\u001b[1m218/218\u001b[0m \u001b[32m━━━━━━━━━━━━━━━━━━━━\u001b[0m\u001b[37m\u001b[0m \u001b[1m0s\u001b[0m 370us/step - loss: 33888487424.0000 - mae: 153871.9062 - val_loss: 35315838976.0000 - val_mae: 157863.7969\n",
      "Epoch 66/100\n",
      "\u001b[1m218/218\u001b[0m \u001b[32m━━━━━━━━━━━━━━━━━━━━\u001b[0m\u001b[37m\u001b[0m \u001b[1m0s\u001b[0m 381us/step - loss: 32819187712.0000 - mae: 151243.4531 - val_loss: 35279507456.0000 - val_mae: 157310.2031\n",
      "Epoch 67/100\n",
      "\u001b[1m218/218\u001b[0m \u001b[32m━━━━━━━━━━━━━━━━━━━━\u001b[0m\u001b[37m\u001b[0m \u001b[1m0s\u001b[0m 369us/step - loss: 32815296512.0000 - mae: 151467.0625 - val_loss: 35115261952.0000 - val_mae: 157241.2969\n",
      "Epoch 68/100\n",
      "\u001b[1m218/218\u001b[0m \u001b[32m━━━━━━━━━━━━━━━━━━━━\u001b[0m\u001b[37m\u001b[0m \u001b[1m0s\u001b[0m 370us/step - loss: 33365479424.0000 - mae: 151784.1562 - val_loss: 35120295936.0000 - val_mae: 156678.9062\n",
      "Epoch 69/100\n",
      "\u001b[1m218/218\u001b[0m \u001b[32m━━━━━━━━━━━━━━━━━━━━\u001b[0m\u001b[37m\u001b[0m \u001b[1m0s\u001b[0m 369us/step - loss: 33064366080.0000 - mae: 151452.4844 - val_loss: 34949169152.0000 - val_mae: 156552.5000\n",
      "Epoch 70/100\n",
      "\u001b[1m218/218\u001b[0m \u001b[32m━━━━━━━━━━━━━━━━━━━━\u001b[0m\u001b[37m\u001b[0m \u001b[1m0s\u001b[0m 379us/step - loss: 33300074496.0000 - mae: 153201.7500 - val_loss: 34823086080.0000 - val_mae: 156325.4375\n",
      "Epoch 71/100\n",
      "\u001b[1m218/218\u001b[0m \u001b[32m━━━━━━━━━━━━━━━━━━━━\u001b[0m\u001b[37m\u001b[0m \u001b[1m0s\u001b[0m 369us/step - loss: 33919926272.0000 - mae: 153362.7656 - val_loss: 34662342656.0000 - val_mae: 156177.1875\n",
      "Epoch 72/100\n",
      "\u001b[1m218/218\u001b[0m \u001b[32m━━━━━━━━━━━━━━━━━━━━\u001b[0m\u001b[37m\u001b[0m \u001b[1m0s\u001b[0m 371us/step - loss: 33034326016.0000 - mae: 151768.3906 - val_loss: 34559201280.0000 - val_mae: 155857.2344\n",
      "Epoch 73/100\n",
      "\u001b[1m218/218\u001b[0m \u001b[32m━━━━━━━━━━━━━━━━━━━━\u001b[0m\u001b[37m\u001b[0m \u001b[1m0s\u001b[0m 371us/step - loss: 32420429824.0000 - mae: 150371.9375 - val_loss: 34373210112.0000 - val_mae: 155897.3906\n",
      "Epoch 74/100\n",
      "\u001b[1m218/218\u001b[0m \u001b[32m━━━━━━━━━━━━━━━━━━━━\u001b[0m\u001b[37m\u001b[0m \u001b[1m0s\u001b[0m 370us/step - loss: 32040382464.0000 - mae: 150528.6562 - val_loss: 34284029952.0000 - val_mae: 155476.2344\n",
      "Epoch 75/100\n",
      "\u001b[1m218/218\u001b[0m \u001b[32m━━━━━━━━━━━━━━━━━━━━\u001b[0m\u001b[37m\u001b[0m \u001b[1m0s\u001b[0m 370us/step - loss: 31348434944.0000 - mae: 148408.3750 - val_loss: 34149107712.0000 - val_mae: 155290.6719\n",
      "Epoch 76/100\n",
      "\u001b[1m218/218\u001b[0m \u001b[32m━━━━━━━━━━━━━━━━━━━━\u001b[0m\u001b[37m\u001b[0m \u001b[1m0s\u001b[0m 370us/step - loss: 32382709760.0000 - mae: 150087.8906 - val_loss: 34012794880.0000 - val_mae: 155107.4688\n",
      "Epoch 77/100\n",
      "\u001b[1m218/218\u001b[0m \u001b[32m━━━━━━━━━━━━━━━━━━━━\u001b[0m\u001b[37m\u001b[0m \u001b[1m0s\u001b[0m 372us/step - loss: 32874151936.0000 - mae: 152205.0781 - val_loss: 34040844288.0000 - val_mae: 154384.4531\n",
      "Epoch 78/100\n",
      "\u001b[1m218/218\u001b[0m \u001b[32m━━━━━━━━━━━━━━━━━━━━\u001b[0m\u001b[37m\u001b[0m \u001b[1m0s\u001b[0m 370us/step - loss: 33042178048.0000 - mae: 152019.0938 - val_loss: 33870876672.0000 - val_mae: 154175.7500\n",
      "Epoch 79/100\n",
      "\u001b[1m218/218\u001b[0m \u001b[32m━━━━━━━━━━━━━━━━━━━━\u001b[0m\u001b[37m\u001b[0m \u001b[1m0s\u001b[0m 383us/step - loss: 31044808704.0000 - mae: 146287.0000 - val_loss: 33610561536.0000 - val_mae: 154722.2188\n",
      "Epoch 80/100\n",
      "\u001b[1m218/218\u001b[0m \u001b[32m━━━━━━━━━━━━━━━━━━━━\u001b[0m\u001b[37m\u001b[0m \u001b[1m0s\u001b[0m 384us/step - loss: 31571935232.0000 - mae: 148716.6094 - val_loss: 33617391616.0000 - val_mae: 153513.1250\n",
      "Epoch 81/100\n",
      "\u001b[1m218/218\u001b[0m \u001b[32m━━━━━━━━━━━━━━━━━━━━\u001b[0m\u001b[37m\u001b[0m \u001b[1m0s\u001b[0m 375us/step - loss: 31278520320.0000 - mae: 147315.2344 - val_loss: 33282514944.0000 - val_mae: 153962.8750\n",
      "Epoch 82/100\n",
      "\u001b[1m218/218\u001b[0m \u001b[32m━━━━━━━━━━━━━━━━━━━━\u001b[0m\u001b[37m\u001b[0m \u001b[1m0s\u001b[0m 371us/step - loss: 32769808384.0000 - mae: 153212.8750 - val_loss: 33224255488.0000 - val_mae: 152926.2812\n",
      "Epoch 83/100\n",
      "\u001b[1m218/218\u001b[0m \u001b[32m━━━━━━━━━━━━━━━━━━━━\u001b[0m\u001b[37m\u001b[0m \u001b[1m0s\u001b[0m 371us/step - loss: 31350700032.0000 - mae: 147657.4375 - val_loss: 33004525568.0000 - val_mae: 152888.7500\n",
      "Epoch 84/100\n",
      "\u001b[1m218/218\u001b[0m \u001b[32m━━━━━━━━━━━━━━━━━━━━\u001b[0m\u001b[37m\u001b[0m \u001b[1m0s\u001b[0m 370us/step - loss: 31319699456.0000 - mae: 148769.3594 - val_loss: 32872396800.0000 - val_mae: 152513.3750\n",
      "Epoch 85/100\n",
      "\u001b[1m218/218\u001b[0m \u001b[32m━━━━━━━━━━━━━━━━━━━━\u001b[0m\u001b[37m\u001b[0m \u001b[1m0s\u001b[0m 373us/step - loss: 30872141824.0000 - mae: 146790.2188 - val_loss: 32774750208.0000 - val_mae: 152044.6875\n",
      "Epoch 86/100\n",
      "\u001b[1m218/218\u001b[0m \u001b[32m━━━━━━━━━━━━━━━━━━━━\u001b[0m\u001b[37m\u001b[0m \u001b[1m0s\u001b[0m 370us/step - loss: 31359825920.0000 - mae: 148586.8594 - val_loss: 32766965760.0000 - val_mae: 151426.0938\n",
      "Epoch 87/100\n",
      "\u001b[1m218/218\u001b[0m \u001b[32m━━━━━━━━━━━━━━━━━━━━\u001b[0m\u001b[37m\u001b[0m \u001b[1m0s\u001b[0m 372us/step - loss: 31531233280.0000 - mae: 148157.6562 - val_loss: 32520781824.0000 - val_mae: 151387.7812\n",
      "Epoch 88/100\n",
      "\u001b[1m218/218\u001b[0m \u001b[32m━━━━━━━━━━━━━━━━━━━━\u001b[0m\u001b[37m\u001b[0m \u001b[1m0s\u001b[0m 371us/step - loss: 30489298944.0000 - mae: 146239.1562 - val_loss: 32377952256.0000 - val_mae: 151128.9062\n",
      "Epoch 89/100\n",
      "\u001b[1m218/218\u001b[0m \u001b[32m━━━━━━━━━━━━━━━━━━━━\u001b[0m\u001b[37m\u001b[0m \u001b[1m0s\u001b[0m 374us/step - loss: 31401904128.0000 - mae: 148942.9375 - val_loss: 32204871680.0000 - val_mae: 150973.6719\n",
      "Epoch 90/100\n",
      "\u001b[1m218/218\u001b[0m \u001b[32m━━━━━━━━━━━━━━━━━━━━\u001b[0m\u001b[37m\u001b[0m \u001b[1m0s\u001b[0m 371us/step - loss: 31976292352.0000 - mae: 149758.0938 - val_loss: 32257099776.0000 - val_mae: 150151.7969\n",
      "Epoch 91/100\n",
      "\u001b[1m218/218\u001b[0m \u001b[32m━━━━━━━━━━━━━━━━━━━━\u001b[0m\u001b[37m\u001b[0m \u001b[1m0s\u001b[0m 372us/step - loss: 30920099840.0000 - mae: 146682.6094 - val_loss: 31994292224.0000 - val_mae: 150040.8281\n",
      "Epoch 92/100\n",
      "\u001b[1m218/218\u001b[0m \u001b[32m━━━━━━━━━━━━━━━━━━━━\u001b[0m\u001b[37m\u001b[0m \u001b[1m0s\u001b[0m 369us/step - loss: 30160812032.0000 - mae: 145795.2031 - val_loss: 31894181888.0000 - val_mae: 149678.0312\n",
      "Epoch 93/100\n",
      "\u001b[1m218/218\u001b[0m \u001b[32m━━━━━━━━━━━━━━━━━━━━\u001b[0m\u001b[37m\u001b[0m \u001b[1m0s\u001b[0m 369us/step - loss: 31274532864.0000 - mae: 147120.4844 - val_loss: 31864760320.0000 - val_mae: 149163.4688\n",
      "Epoch 94/100\n",
      "\u001b[1m218/218\u001b[0m \u001b[32m━━━━━━━━━━━━━━━━━━━━\u001b[0m\u001b[37m\u001b[0m \u001b[1m0s\u001b[0m 371us/step - loss: 29950156800.0000 - mae: 144259.8594 - val_loss: 31601055744.0000 - val_mae: 149033.3594\n",
      "Epoch 95/100\n",
      "\u001b[1m218/218\u001b[0m \u001b[32m━━━━━━━━━━━━━━━━━━━━\u001b[0m\u001b[37m\u001b[0m \u001b[1m0s\u001b[0m 368us/step - loss: 29939128320.0000 - mae: 144337.0469 - val_loss: 31346577408.0000 - val_mae: 149144.8125\n",
      "Epoch 96/100\n",
      "\u001b[1m218/218\u001b[0m \u001b[32m━━━━━━━━━━━━━━━━━━━━\u001b[0m\u001b[37m\u001b[0m \u001b[1m0s\u001b[0m 372us/step - loss: 30213419008.0000 - mae: 145505.3594 - val_loss: 31362955264.0000 - val_mae: 148274.9219\n",
      "Epoch 97/100\n",
      "\u001b[1m218/218\u001b[0m \u001b[32m━━━━━━━━━━━━━━━━━━━━\u001b[0m\u001b[37m\u001b[0m \u001b[1m0s\u001b[0m 372us/step - loss: 28608069632.0000 - mae: 141173.7969 - val_loss: 31187134464.0000 - val_mae: 148048.1406\n",
      "Epoch 98/100\n",
      "\u001b[1m218/218\u001b[0m \u001b[32m━━━━━━━━━━━━━━━━━━━━\u001b[0m\u001b[37m\u001b[0m \u001b[1m0s\u001b[0m 372us/step - loss: 28914153472.0000 - mae: 143370.4844 - val_loss: 30909366272.0000 - val_mae: 148250.0312\n",
      "Epoch 99/100\n",
      "\u001b[1m218/218\u001b[0m \u001b[32m━━━━━━━━━━━━━━━━━━━━\u001b[0m\u001b[37m\u001b[0m \u001b[1m0s\u001b[0m 370us/step - loss: 29694306304.0000 - mae: 145366.0781 - val_loss: 30838341632.0000 - val_mae: 147504.2812\n",
      "Epoch 100/100\n",
      "\u001b[1m218/218\u001b[0m \u001b[32m━━━━━━━━━━━━━━━━━━━━\u001b[0m\u001b[37m\u001b[0m \u001b[1m0s\u001b[0m 371us/step - loss: 28854300672.0000 - mae: 141421.3125 - val_loss: 30620860416.0000 - val_mae: 147472.7656\n"
     ]
    }
   ],
   "source": [
    "from keras.optimizers import Adam\n",
    "\n",
    "# Adam optimizatörünü özelleştirme\n",
    "# optimizer = Adam(learning_rate=0.0005, beta_1=0.8, beta_2=0.999, epsilon=1e-07) --> 87.27 80 epochs\n",
    "optimizer = Adam(learning_rate=0.0001, beta_1=0.9, beta_2=0.999) \n",
    "\n",
    "\n",
    "# Modeli derleme\n",
    "model.compile(optimizer=optimizer, loss='mse', metrics=['mae'])\n",
    "\n",
    "# Modeli eğitme\n",
    "history = model.fit(X_train, y_train, validation_data=(X_test, y_test), epochs=100, batch_size=16, verbose=1)"
   ]
  },
  {
   "cell_type": "code",
   "execution_count": 100,
   "id": "d7103816-f019-4533-b55d-6ca2967f56e0",
   "metadata": {},
   "outputs": [
    {
     "name": "stdout",
     "output_type": "stream",
     "text": [
      "\u001b[1m28/28\u001b[0m \u001b[32m━━━━━━━━━━━━━━━━━━━━\u001b[0m\u001b[37m\u001b[0m \u001b[1m0s\u001b[0m 632us/step\n"
     ]
    }
   ],
   "source": [
    "# Test seti üzerindeki tahminleri yapma\n",
    "y_pred = model.predict(X_test)"
   ]
  },
  {
   "cell_type": "code",
   "execution_count": 101,
   "id": "ba2c158e-c275-43ce-a7b6-e5224c5ca35b",
   "metadata": {},
   "outputs": [
    {
     "data": {
      "image/png": "[encoded data removed]",
      "text/plain": [
       "<Figure size 640x480 with 1 Axes>"
      ]
     },
     "metadata": {},
     "output_type": "display_data"
    }
   ],
   "source": [
    "# Eğitim sürecindeki kaybı görselleştirme\n",
    "plt.plot(history.history['loss'], label='Train Loss')\n",
    "plt.plot(history.history['val_loss'], label='Validation Loss')\n",
    "plt.title('Model Loss')\n",
    "plt.ylabel('Loss')\n",
    "plt.xlabel('Epoch')\n",
    "plt.legend()\n",
    "plt.show()"
   ]
  },
  {
   "cell_type": "code",
   "execution_count": 102,
   "id": "7e19189e-1d47-4920-bc7f-31b686357ad0",
   "metadata": {},
   "outputs": [
    {
     "name": "stdout",
     "output_type": "stream",
     "text": [
      "Mean Absolute Error: 147472.75412127294\n",
      "Root Mean Squared Error: 174988.1765761764\n",
      "Percentage Error: 35.85%\n",
      "Başarı: 64.15%\n",
      "R-squared: 0.27\n"
     ]
    }
   ],
   "source": [
    "from sklearn.metrics import mean_absolute_error, mean_squared_error\n",
    "import numpy as np\n",
    "\n",
    "# MAE hesaplama\n",
    "mae = mean_absolute_error(y_test, y_pred)\n",
    "print(f'Mean Absolute Error: {mae}')\n",
    "\n",
    "# RMSE hesaplama\n",
    "rmse = np.sqrt(mean_squared_error(y_test, y_pred))\n",
    "print(f'Root Mean Squared Error: {rmse}')\n",
    "\n",
    "# Gerçek değerlerin ortalamasını hesaplayalım\n",
    "mean_price = np.mean(y_test)\n",
    "\n",
    "# Yüzdesel hata hesaplama\n",
    "percentage_error = (mae / mean_price) * 100\n",
    "print(f'Percentage Error: {percentage_error:.2f}%')\n",
    "print(f'Başarı: {100 - percentage_error:.2f}%')\n",
    "\n",
    "# R-squared hesaplama\n",
    "from sklearn.metrics import r2_score\n",
    "r2 = r2_score(y_test, y_pred)\n",
    "print(f'R-squared: {r2:.2f}')"
   ]
  },
  {
   "cell_type": "code",
   "execution_count": null,
   "id": "dccb112f-d7de-41e9-b595-8f1702e9c8a4",
   "metadata": {},
   "outputs": [],
   "source": []
  },
  {
   "cell_type": "code",
   "execution_count": null,
   "id": "a5e7a220-ec7b-4985-b389-bab53fc2530f",
   "metadata": {},
   "outputs": [],
   "source": []
  },
  {
   "cell_type": "code",
   "execution_count": null,
   "id": "eaed3734-f241-4088-92a1-73eacb72dc97",
   "metadata": {},
   "outputs": [],
   "source": []
  }
 ],
 "metadata": {
  "kernelspec": {
   "display_name": "Python 3 (ipykernel)",
   "language": "python",
   "name": "python3"
  },
  "language_info": {
   "codemirror_mode": {
    "name": "ipython",
    "version": 3
   },
   "file_extension": ".py",
   "mimetype": "text/x-python",
   "name": "python",
   "nbconvert_exporter": "python",
   "pygments_lexer": "ipython3",
   "version": "3.10.15"
  }
 },
 "nbformat": 4,
 "nbformat_minor": 5
}
